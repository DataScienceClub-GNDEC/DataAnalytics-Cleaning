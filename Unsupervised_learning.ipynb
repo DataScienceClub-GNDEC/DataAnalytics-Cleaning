{
  "nbformat": 4,
  "nbformat_minor": 0,
  "metadata": {
    "colab": {
      "name": "Unsupervised_learning.ipynb",
      "provenance": []
    },
    "kernelspec": {
      "name": "python3",
      "display_name": "Python 3"
    },
    "language_info": {
      "name": "python"
    }
  },
  "cells": [
    {
      "cell_type": "code",
      "metadata": {
        "id": "5ZSxsTnLgmta"
      },
      "source": [
        "import numpy as np\n",
        "import pandas as pd\n",
        "import matplotlib.pyplot as plt\n",
        "import seaborn as sns\n",
        "from sklearn.cluster import KMeans\n",
        "from sklearn.metrics import silhouette_score\n",
        "\n"
      ],
      "execution_count": 1,
      "outputs": []
    },
    {
      "cell_type": "code",
      "metadata": {
        "id": "nKBBxK6qhHVI"
      },
      "source": [
        "df = pd.read_csv(\"Mall_Customers.csv\")"
      ],
      "execution_count": null,
      "outputs": []
    },
    {
      "cell_type": "code",
      "metadata": {
        "id": "QA4IEhQ5hIYD"
      },
      "source": [
        "df.head()"
      ],
      "execution_count": null,
      "outputs": []
    },
    {
      "cell_type": "code",
      "metadata": {
        "id": "7NXEARoRhMzB"
      },
      "source": [
        "df.shape"
      ],
      "execution_count": null,
      "outputs": []
    },
    {
      "cell_type": "code",
      "metadata": {
        "id": "TMgYrpsthQhp"
      },
      "source": [
        "encode = pd.get_dummies(df['Gender'],drop_first=True,prefix='Gender',dtype='int8')"
      ],
      "execution_count": null,
      "outputs": []
    },
    {
      "cell_type": "code",
      "metadata": {
        "id": "z02zyVLwhTnX"
      },
      "source": [
        "df = pd.concat([df,encode],axis=1)\n",
        "df"
      ],
      "execution_count": null,
      "outputs": []
    },
    {
      "cell_type": "code",
      "metadata": {
        "id": "r5EfjciVhZYd"
      },
      "source": [
        "df.drop(['Gender'],axis=1,inplace=True)"
      ],
      "execution_count": null,
      "outputs": []
    },
    {
      "cell_type": "code",
      "metadata": {
        "id": "X6jKGwh5hie2"
      },
      "source": [
        "df.rename(columns={'Gender_Male':'Gender'},inplace=True)\n",
        "df.head()"
      ],
      "execution_count": null,
      "outputs": []
    },
    {
      "cell_type": "code",
      "metadata": {
        "id": "0DqhTNBghrX9"
      },
      "source": [
        "df.isnull().sum()"
      ],
      "execution_count": null,
      "outputs": []
    },
    {
      "cell_type": "code",
      "metadata": {
        "id": "8AhHQ3BKhsO-"
      },
      "source": [
        "df.drop([\"CustomerID\"],axis=1, inplace=True"
      ],
      "execution_count": null,
      "outputs": []
    },
    {
      "cell_type": "code",
      "metadata": {
        "id": "JsvLwMOPh2mR"
      },
      "source": [
        "data= \"Mall_Customers.csv"
      ],
      "execution_count": null,
      "outputs": []
    },
    {
      "cell_type": "markdown",
      "metadata": {
        "id": "5_fQkvZliHVf"
      },
      "source": [
        "##visualization"
      ]
    },
    {
      "cell_type": "code",
      "metadata": {
        "id": "yAJrm9l0iCJ7"
      },
      "source": [
        "from autoviz.AutoViz_Class import AutoViz_Class\n",
        "av = AutoViz_Class()"
      ],
      "execution_count": null,
      "outputs": []
    },
    {
      "cell_type": "code",
      "metadata": {
        "id": "67HqlhkPiM1r"
      },
      "source": [
        "av.AutoViz(data,\n",
        " sep=\",\",\n",
        " depVar=\"\",\n",
        " dfte=None,\n",
        " header=0,\n",
        " verbose=0,\n",
        " lowess=False,\n",
        " chart_format=\"svg\",\n",
        " max_rows_analyzed=10000, \n",
        " max_cols_analyzed=10,)"
      ],
      "execution_count": null,
      "outputs": []
    },
    {
      "cell_type": "code",
      "metadata": {
        "id": "hP6Tr_1NiV1-"
      },
      "source": [
        ""
      ],
      "execution_count": null,
      "outputs": []
    },
    {
      "cell_type": "code",
      "metadata": {
        "id": "pemC_iBYieBc"
      },
      "source": [
        "x1 = df.loc[:,['Age','Spending Score (1-100)']].values\n",
        "wcss=[]\n",
        "for k in range(1,11):\n",
        " kmeans = KMeans(n_clusters=k,init='k-means++')\n",
        " kmeans.fit(x1)\n",
        " wcss.append(kmeans.inertia_)\n",
        " \n",
        "plt.figure(figsize=(12,6))\n",
        "plt.grid()\n",
        "plt.plot(range(1,11),wcss,linewidth=2,color = 'red' , marker = '8')\n",
        "plt.xlabel('k value')\n",
        "plt.ylabel('Wcss') \n",
        "plt.show()"
      ],
      "execution_count": null,
      "outputs": []
    },
    {
      "cell_type": "code",
      "metadata": {
        "id": "xM4Q2BnJifs8"
      },
      "source": [
        "kmeans = KMeans(n_clusters=4)\n",
        "label = kmeans.fit_predict(x1)"
      ],
      "execution_count": null,
      "outputs": []
    },
    {
      "cell_type": "code",
      "metadata": {
        "id": "qFaJl7xZimXi"
      },
      "source": [
        "print(kmeans.cluster_centers_)\n"
      ],
      "execution_count": null,
      "outputs": []
    },
    {
      "cell_type": "code",
      "metadata": {
        "id": "CtJ06z2mit3n"
      },
      "source": [
        ""
      ],
      "execution_count": null,
      "outputs": []
    },
    {
      "cell_type": "code",
      "metadata": {
        "id": "6_dQOqDFiugv"
      },
      "source": [
        "kmeans.cluster_centers_[:,1]"
      ],
      "execution_count": null,
      "outputs": []
    },
    {
      "cell_type": "code",
      "metadata": {
        "id": "Q5s4VsXMizSr"
      },
      "source": [
        "kmeans.cluster_centers_"
      ],
      "execution_count": null,
      "outputs": []
    },
    {
      "cell_type": "code",
      "metadata": {
        "id": "OqEsJCUOi6NJ"
      },
      "source": [
        "plt.scatter(x1[:,0],x1[:,1],c=kmeans.labels_,cmap='rainbow')\n",
        "plt.scatter(kmeans.cluster_centers_[:,0],kmeans.cluster_centers_[:,1],color='black')\n",
        "plt.title(\"cluster of customers\")\n",
        "plt.xlabel(\"age\")\n",
        "plt.ylabel(\"spending score\")\n",
        "plt.show()"
      ],
      "execution_count": null,
      "outputs": []
    },
    {
      "cell_type": "code",
      "metadata": {
        "id": "4epE-VfijAKL"
      },
      "source": [
        "x2 = df.loc[:,['Annual Income (k$)','Spending Score (1-100)']].values\n",
        "wcss=[]\n",
        "for k in range(1,11):\n",
        " kmeans = KMeans(n_clusters=k,init='k-means++')\n",
        " kmeans.fit(x2)\n",
        " wcss.append(kmeans.inertia_)\n",
        " \n",
        "plt.figure(figsize=(12,6))\n",
        "plt.grid()\n",
        "plt.plot(range(1,11),wcss,linewidth=2,color = 'red' , marker = '8')\n",
        "plt.xlabel('k value')\n",
        "plt.ylabel('Wcss')\n",
        "plt.show()"
      ],
      "execution_count": null,
      "outputs": []
    },
    {
      "cell_type": "code",
      "metadata": {
        "id": "GzaYI3AmjGdv"
      },
      "source": [
        "x3"
      ],
      "execution_count": null,
      "outputs": []
    },
    {
      "cell_type": "code",
      "metadata": {
        "id": "lggNp2ynjPMQ"
      },
      "source": [
        "kmeans = KMeans(n_clusters=6)\n",
        "label = kmeans.fit_predict(x3)"
      ],
      "execution_count": null,
      "outputs": []
    },
    {
      "cell_type": "code",
      "metadata": {
        "id": "PxJb2dWMjQiM"
      },
      "source": [
        "x = df.columns\n",
        "x\n"
      ],
      "execution_count": null,
      "outputs": []
    },
    {
      "cell_type": "code",
      "metadata": {
        "id": "TUuNj77zjYq8"
      },
      "source": [
        "x1 = df.loc[:,['Gender','Annual Income (k$)']].values\n",
        "wcss=[]\n",
        "for k in range(1,11):\n",
        " kmeans = KMeans(n_clusters=k,init='k-means++')\n",
        " kmeans.fit(x1)\n",
        " wcss.append(kmeans.inertia_)\n",
        " \n",
        "plt.figure(figsize=(12,6))\n",
        "plt.grid()\n",
        "plt.plot(range(1,11),wcss,linewidth=2,color = 'red' , marker = '8')\n",
        "plt.xlabel('k value')\n",
        "plt.ylabel('Wcss') \n",
        "plt.show()"
      ],
      "execution_count": null,
      "outputs": []
    }
  ]
}